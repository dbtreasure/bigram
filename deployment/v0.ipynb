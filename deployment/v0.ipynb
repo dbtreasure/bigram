{
 "cells": [
  {
   "cell_type": "code",
   "execution_count": null,
   "metadata": {},
   "outputs": [],
   "source": [
    "%run -i model_configuration/v2.py\n",
    "\n",
    "checkpoint = torch.load('checkpoint.pth')\n",
    "model.load_state_dict(checkpoint['model_state_dict'])\n",
    "\n",
    "# define new inputs\n",
    "# new_inputs = ...\n",
    "\n",
    "# set model to eval\n",
    "# model.eval()\n",
    "\n",
    "# model(new_inputs)\n"
   ]
  }
 ],
 "metadata": {
  "kernelspec": {
   "display_name": "Python 3",
   "language": "python",
   "name": "python3"
  },
  "language_info": {
   "name": "python",
   "version": "3.9.4 (default, Apr 26 2021, 23:56:36) \n[Clang 12.0.0 (clang-1200.0.32.28)]"
  },
  "orig_nbformat": 4,
  "vscode": {
   "interpreter": {
    "hash": "2852051651179a76e8ad681d4f14249c84f15b02f589ee749afe2d717f753bcf"
   }
  }
 },
 "nbformat": 4,
 "nbformat_minor": 2
}
