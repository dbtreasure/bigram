{
 "cells": [
  {
   "cell_type": "code",
   "execution_count": 43,
   "metadata": {},
   "outputs": [
    {
     "name": "stdout",
     "output_type": "stream",
     "text": [
      "Device: mps\n"
     ]
    }
   ],
   "source": [
    "# %load data_preparation/v4.py\n",
    "# Removes the one-hot encoding as a step performed on xs\n",
    "import torch\n",
    "import torch.optim as optim\n",
    "import torch.nn.functional as F\n",
    "from torch.utils.data import Dataset, TensorDataset, DataLoader\n",
    "from torch.utils.data.dataset import random_split\n",
    "\n",
    "# create a classifier class that inherits from nn.Module\n",
    "class BigramClassifier(torch.nn.Module):\n",
    "    def __init__(self):\n",
    "        super(BigramClassifier, self).__init__()\n",
    "        self.W = torch.nn.Parameter(torch.randn((27,27), generator=g, requires_grad=True))\n",
    "\n",
    "    # x here is no longer a one-hot encoded vector, instead we must select the row of W that corresponds to the index of the letter\n",
    "    def forward(self, x):\n",
    "        return self.W[x]\n",
    "\n",
    "\n",
    "device = \"mps\" if getattr(torch,'has_mps',False) \\\n",
    "    else \"gpu\" if torch.cuda.is_available() else \"cpu\"\n",
    "\n",
    "print(f'Device: {device}')\n",
    "\n",
    "g = torch.Generator().manual_seed(42)\n",
    "\n",
    "words = open('names.txt').read().splitlines()\n",
    "letters = sorted(list(set(''.join(words))))\n",
    "letter_to_index = {letter: index for index, letter in enumerate(letters)}\n",
    "letter_to_index['.'] = 0\n",
    "index_to_letter = {i: letter for letter, i in letter_to_index.items()}\n",
    "\n",
    "xs, ys = [], []\n",
    "\n",
    "for w in words:\n",
    "    chs = ['.'] + list(w) + ['.']\n",
    "    for ch1, ch2 in zip(chs, chs[1:]):\n",
    "        xs.append(letter_to_index[ch1])\n",
    "        ys.append(letter_to_index[ch2])\n",
    "\n",
    "xs = torch.as_tensor(xs)\n",
    "ys = torch.as_tensor(ys)\n",
    "\n",
    "dataset = TensorDataset(xs, ys)\n",
    "\n",
    "train_ratio = .8\n",
    "validation_ratio = .1\n",
    "\n",
    "n_total = len(dataset)\n",
    "n_train = int(n_total * train_ratio)\n",
    "n_train_batch=n_train\n",
    "n_validation = int(n_total * validation_ratio)\n",
    "n_validation_batch=n_validation\n",
    "n_test = n_total - n_train - n_validation\n",
    "\n",
    "train_data, validation_data, test_data = random_split(dataset, [n_train, n_validation, n_test])\n",
    "\n",
    "train_loader = DataLoader(train_data, batch_size=n_train_batch, shuffle=True)\n",
    "validation_loader = DataLoader(validation_data, batch_size=n_validation_batch, shuffle=True)\n",
    "test_loader = DataLoader(test_data, batch_size=n_test, shuffle=True)\n"
   ]
  },
  {
   "cell_type": "code",
   "execution_count": 45,
   "metadata": {},
   "outputs": [],
   "source": [
    "# %load model_configuration/v2.py\n",
    "import torch\n",
    "import torch.optim as optim\n",
    "from torch.utils.tensorboard import SummaryWriter\n",
    "\n",
    "def smoothing():\n",
    "    return + 0.01*(model.W**2).mean()\n",
    "\n",
    "def make_train_step_fn(model, loss_fn, optimizer):\n",
    "    def train_step(x, y):\n",
    "        \n",
    "        model.train()\n",
    "        yhat = model(x)\n",
    "        loss = loss_fn(yhat, y) + smoothing()\n",
    "        optimizer.zero_grad()\n",
    "        loss.backward()\n",
    "        optimizer.step()\n",
    "        return loss.item()\n",
    "    return train_step\n",
    "\n",
    "# make a validation step function\n",
    "def make_validation_step_fn(model, loss_fn):\n",
    "    def validation_step(x, y):\n",
    "        model.eval()\n",
    "        # NO GRADIENTS IN VALIDATION\n",
    "        with torch.no_grad():\n",
    "            yhat = model(x)\n",
    "            loss = loss_fn(yhat, y)\n",
    "            return loss.item()\n",
    "    return validation_step\n",
    "\n",
    "lr = 50\n",
    "momentum = 0.9\n",
    "model = BigramClassifier()\n",
    "\n",
    "optimizer = optim.SGD(model.parameters(), lr=lr, momentum=momentum)\n",
    "loss_fn = torch.nn.CrossEntropyLoss()\n",
    "\n",
    "train_step_fn = make_train_step_fn(model, loss_fn, optimizer)\n",
    "validation_step_fn = make_validation_step_fn(model, loss_fn)\n",
    "\n",
    "writer = SummaryWriter('runs/bigram_classifier')\n",
    "x_dummy, y_dummy = next(iter(train_loader))\n",
    "#writer.add_graph(model, x_dummy.to(device))"
   ]
  },
  {
   "cell_type": "code",
   "execution_count": 46,
   "metadata": {},
   "outputs": [
    {
     "name": "stdout",
     "output_type": "stream",
     "text": [
      "Epoch 1/50\n",
      "Epoch 2/50\n",
      "Epoch 3/50\n",
      "Epoch 4/50\n",
      "Epoch 5/50\n",
      "Epoch 6/50\n",
      "Epoch 7/50\n",
      "Epoch 8/50\n",
      "Epoch 9/50\n",
      "Epoch 10/50\n",
      "Epoch 11/50\n",
      "Epoch 12/50\n",
      "Epoch 13/50\n",
      "Epoch 14/50\n",
      "Epoch 15/50\n",
      "Epoch 16/50\n",
      "Epoch 17/50\n",
      "Epoch 18/50\n",
      "Epoch 19/50\n",
      "Epoch 20/50\n",
      "Epoch 21/50\n",
      "Epoch 22/50\n",
      "Epoch 23/50\n",
      "Epoch 24/50\n",
      "Epoch 25/50\n",
      "Epoch 26/50\n",
      "Epoch 27/50\n",
      "Epoch 28/50\n",
      "Epoch 29/50\n",
      "Epoch 30/50\n",
      "Epoch 31/50\n",
      "Epoch 32/50\n",
      "Epoch 33/50\n",
      "Epoch 34/50\n",
      "Epoch 35/50\n",
      "Epoch 36/50\n",
      "Epoch 37/50\n",
      "Epoch 38/50\n",
      "Epoch 39/50\n",
      "Epoch 40/50\n",
      "Epoch 41/50\n",
      "Epoch 42/50\n",
      "Epoch 43/50\n",
      "Epoch 44/50\n",
      "Epoch 45/50\n",
      "Epoch 46/50\n",
      "Epoch 47/50\n",
      "Epoch 48/50\n",
      "Epoch 49/50\n",
      "Epoch 50/50\n",
      "Final training loss: 3.1924378871917725\n"
     ]
    }
   ],
   "source": [
    "# %load model_training/v4.py\n",
    "import torch\n",
    "import torch.nn.functional as F\n",
    "import numpy\n",
    "\n",
    "epochs = 50\n",
    "losses = []\n",
    "\n",
    "def mini_batch(device, data_loader, stepn_fn):\n",
    "    mini_batch_losses = []\n",
    "    for x_batch, y_batch in data_loader:\n",
    "        loss = stepn_fn(x_batch, y_batch)\n",
    "        mini_batch_losses.append(loss)\n",
    "    return numpy.mean(mini_batch_losses)\n",
    "\n",
    "for epoch in range(epochs):\n",
    "    print(f'Epoch {epoch+1}/{epochs}')\n",
    "    loss = mini_batch(device, train_loader, train_step_fn)\n",
    "    losses.append(loss)\n",
    "\n",
    "    writer.add_scalars(main_tag=f'MPS&lr={lr}&momentum={momentum}&epochs={epochs}&batch={n_train_batch}&smoothing=0.01', tag_scalar_dict={'training': loss}, global_step=epoch)\n",
    "\n",
    "writer.close()\n",
    "\n",
    "checkpoint = {\n",
    "    'epoch': epochs,\n",
    "    'lr': lr,\n",
    "    'momentum': momentum,\n",
    "    'smoothing': '0.01+W**2.mean()',\n",
    "    'model_state_dict': model.state_dict(),\n",
    "    'optimizer_state_dict': optimizer.state_dict(),\n",
    "    'loss': losses\n",
    "}\n",
    "\n",
    "torch.save(checkpoint, 'checkpoint.pth')\n",
    "# print last losses value\n",
    "print(f'Final training loss: {losses[-1]}')"
   ]
  },
  {
   "cell_type": "code",
   "execution_count": 6,
   "metadata": {},
   "outputs": [
    {
     "data": {
      "text/plain": [
       "[<matplotlib.lines.Line2D at 0x7fb599033850>]"
      ]
     },
     "execution_count": 6,
     "metadata": {},
     "output_type": "execute_result"
    },
    {
     "data": {
      "image/png": "[encoded data removed]",
      "text/plain": [
       "<Figure size 640x480 with 1 Axes>"
      ]
     },
     "metadata": {},
     "output_type": "display_data"
    }
   ],
   "source": [
    "import matplotlib.pyplot as plt\n",
    "%matplotlib inline\n",
    "plt.style.use('fivethirtyeight')\n",
    "\n",
    "plt.plot(losses)"
   ]
  },
  {
   "cell_type": "code",
   "execution_count": 32,
   "metadata": {},
   "outputs": [
    {
     "name": "stdout",
     "output_type": "stream",
     "text": [
      "Python Platform: macOS-10.16-x86_64-i386-64bit\n",
      "PyTorch Version: 1.13.0\n",
      "\n",
      "Python 3.9.13 (main, Aug 25 2022, 18:29:29) \n",
      "[Clang 12.0.0 ]\n",
      "Pandas 1.4.4\n",
      "Scikit-Learn 1.0.2\n",
      "GPU is NOT AVAILABLE\n",
      "MPS (Apple Metal) is AVAILABLE\n",
      "Target device is mps\n"
     ]
    }
   ],
   "source": [
    "# What version of Python do you have?\n",
    "import sys\n",
    "import platform\n",
    "import torch\n",
    "import pandas as pd\n",
    "import sklearn as sk\n",
    "\n",
    "has_gpu = torch.cuda.is_available()\n",
    "has_mps = getattr(torch,'has_mps',False)\n",
    "device = \"mps\" if getattr(torch,'has_mps',False) \\\n",
    "    else \"gpu\" if torch.cuda.is_available() else \"cpu\"\n",
    "\n",
    "print(f\"Python Platform: {platform.platform()}\")\n",
    "print(f\"PyTorch Version: {torch.__version__}\")\n",
    "print()\n",
    "print(f\"Python {sys.version}\")\n",
    "print(f\"Pandas {pd.__version__}\")\n",
    "print(f\"Scikit-Learn {sk.__version__}\")\n",
    "print(\"GPU is\", \"available\" if has_gpu else \"NOT AVAILABLE\")\n",
    "print(\"MPS (Apple Metal) is\", \"AVAILABLE\" if has_mps else \"NOT AVAILABLE\")\n",
    "print(f\"Target device is {device}\")"
   ]
  }
 ],
 "metadata": {
  "kernelspec": {
   "display_name": "Python 3",
   "language": "python",
   "name": "python3"
  },
  "language_info": {
   "name": "python",
   "version": "3.9.4 (default, Apr 26 2021, 23:56:36) \n[Clang 12.0.0 (clang-1200.0.32.28)]"
  },
  "orig_nbformat": 4,
  "vscode": {
   "interpreter": {
    "hash": "2852051651179a76e8ad681d4f14249c84f15b02f589ee749afe2d717f753bcf"
   }
  }
 },
 "nbformat": 4,
 "nbformat_minor": 2
}
